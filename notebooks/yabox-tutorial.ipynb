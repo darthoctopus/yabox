{
 "cells": [
  {
   "cell_type": "markdown",
   "metadata": {},
   "source": [
    "<div style=\"clear: both; width: 100%; overflow: auto\"><img src=\"img/yabox.png\" style=\"width: 250px; float: left\"/></div>\n",
    "\n",
    "> Yabox: Yet another black-box optimization library for Python - https://github.com/pablormier/yabox\n",
    "\n",
    "Tutorial of the basic functionality of Yabox\n",
    "\n",
    "Author: Pablo Rodríguez-Mier, [@pablormier](https://twitter.com/PabloRMier)"
   ]
  },
  {
   "cell_type": "markdown",
   "metadata": {},
   "source": [
    "# Imports"
   ]
  },
  {
   "cell_type": "code",
   "execution_count": null,
   "metadata": {},
   "outputs": [],
   "source": [
    "%matplotlib inline\n",
    "import matplotlib.pyplot as plt\n",
    "import sys\n",
    "\n",
    "# Load Yabox (from local)\n",
    "# Comment this line to use the installed version\n",
    "sys.path.insert(0, '../')\n",
    "\n",
    "import yabox as yb\n",
    "\n",
    "# Import the DE implementations\n",
    "from yabox.algorithms import DE, PDE\n",
    "print('Yabox version: ', yb.__version__)"
   ]
  },
  {
   "cell_type": "markdown",
   "metadata": {},
   "source": [
    "# Basics\n",
    "\n",
    "Optimization of a lambda function:"
   ]
  },
  {
   "cell_type": "code",
   "execution_count": null,
   "metadata": {},
   "outputs": [],
   "source": [
    "DE(lambda x: sum(x**2), [(-10, 10)], maxiters=1000).solve(show_progress=True)"
   ]
  },
  {
   "cell_type": "code",
   "execution_count": null,
   "metadata": {},
   "outputs": [],
   "source": [
    "def fun(x, a, b):\n",
    "    return a + sum(x**2) / (b + 1)\n",
    "\n",
    "def f(x):\n",
    "    # You can initialize here your params a, b\n",
    "    return fun(x, 10, -2)\n",
    "\n",
    "DE(f, [(-10, 10)], maxiters=1000).solve(show_progress=True)"
   ]
  },
  {
   "cell_type": "markdown",
   "metadata": {},
   "source": [
    "You can control also the search process. Use `geniterator()` to get an iterator at the level of the population (by default, `.iterator()` returns an iterator at the level of individual (thus it iteraters maxiters * popsize  times)"
   ]
  },
  {
   "cell_type": "code",
   "execution_count": null,
   "metadata": {},
   "outputs": [],
   "source": [
    "# Control the iteration process\n",
    "de = DE(lambda x: sum(x**2), [(-10, 10)], maxiters=30)\n",
    "for step in de.geniterator():\n",
    "    idx = step.best_idx\n",
    "    norm_vector = step.population[idx]\n",
    "    best_params = de.denormalize([norm_vector])\n",
    "    print(step.best_fitness, norm_vector, best_params[0])"
   ]
  },
  {
   "cell_type": "code",
   "execution_count": null,
   "metadata": {},
   "outputs": [],
   "source": [
    "# NOTE: On windows, processes are not spawn from ipython\n",
    "def f(x):\n",
    "    return sum(x**2)\n",
    "\n",
    "PDE(f, [(-10, 10)], maxiters=1000).solve(show_progress=False)"
   ]
  }
 ],
 "metadata": {
  "kernelspec": {
   "display_name": "Python 3",
   "language": "python",
   "name": "python3"
  },
  "language_info": {
   "codemirror_mode": {
    "name": "ipython",
    "version": 3
   },
   "file_extension": ".py",
   "mimetype": "text/x-python",
   "name": "python",
   "nbconvert_exporter": "python",
   "pygments_lexer": "ipython3",
   "version": "3.7.6"
  }
 },
 "nbformat": 4,
 "nbformat_minor": 2
}
