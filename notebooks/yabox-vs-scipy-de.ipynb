{
 "cells": [
  {
   "cell_type": "markdown",
   "metadata": {},
   "source": [
    "<div style=\"clear: both; width: 100%; overflow: auto\"><img src=\"img/yabox.png\" style=\"width: 250px; float: left\"/></div>\n",
    "\n",
    "> Yabox: Yet another black-box optimization library for Python - https://github.com/pablormier/yabox\n",
    "\n",
    "This notebook compares the performance of the Differential Evolution (DE) algorithm and the DE with parallel evaluation (PDE) implemented in [Yabox](https://github.com/pablormier/yabox) against the default [Scipy's implementation](https://docs.scipy.org/doc/scipy-0.17.0/reference/generated/scipy.optimize.differential_evolution.html) over a collection of common optimization functions.\n",
    "\n",
    "Author: Pablo Rodríguez-Mier, [@pablormier](https://twitter.com/PabloRMier)"
   ]
  },
  {
   "cell_type": "markdown",
   "metadata": {},
   "source": [
    "# Imports & boilerplate code"
   ]
  },
  {
   "cell_type": "code",
   "execution_count": null,
   "metadata": {},
   "outputs": [],
   "source": [
    "%matplotlib inline\n",
    "import matplotlib.pyplot as plt\n",
    "import sys\n",
    "from time import time\n",
    "\n",
    "# Load Yabox (from local)\n",
    "# Comment this line to use the installed version\n",
    "sys.path.insert(0, '../')\n",
    "\n",
    "import yabox as yb\n",
    "\n",
    "import scipy as sp\n",
    "import numpy as np\n",
    "\n",
    "# Import the DE implementations\n",
    "from yabox.algorithms import DE, PDE\n",
    "from yabox.utils import benchmark\n",
    "from scipy.optimize import differential_evolution as SDE"
   ]
  },
  {
   "cell_type": "code",
   "execution_count": null,
   "metadata": {},
   "outputs": [],
   "source": [
    "print('Yabox version: ', yb.__version__)\n",
    "print('Scipy version: ', sp.__version__)"
   ]
  },
  {
   "cell_type": "markdown",
   "metadata": {},
   "source": [
    "# Default config\n",
    "\n",
    "The initialization of the population in all cases (Yabox/Scipy) is random and the schema used is *rand/1/bin*"
   ]
  },
  {
   "cell_type": "code",
   "execution_count": null,
   "metadata": {},
   "outputs": [],
   "source": [
    "config = dict(\n",
    "    # Runs per method and function, average the final results\n",
    "    runs = 1,\n",
    "    # Time limit for each method (in seconds)\n",
    "    stop_after = 30,\n",
    "    # Max number of iterations\n",
    "    maxiters = 1000000,\n",
    "    # Use a constant mutation factor (0-1)\n",
    "    mutation = 0.5,\n",
    "    # Recombination probability (0-1)\n",
    "    recombination = 0.5,\n",
    "    # Number of individuals in the population. NOTE: Since Scipy uses num_individuals = dimensions * popsize\n",
    "    # Select a size for popsize and a set of dimensions to test so that popsize / dimensions in every case \n",
    "    # produces an integer number\n",
    "    popsize = 64,\n",
    "    # Methods to be tested\n",
    "    methods = ['yabox_de', 'yabox_pde', 'scipy_de']    \n",
    ")"
   ]
  },
  {
   "cell_type": "markdown",
   "metadata": {},
   "source": [
    "# Evaluation\n",
    "\n",
    "In order to evaluate the performance of each implementation, I used 5 different multi-dimensional functions commonly used for benchmarking black-box optimization algorithms. All tests have been taken on a Intel(R) Core(TM) i7-3770 CPU @ 3.40GHz."
   ]
  },
  {
   "cell_type": "markdown",
   "metadata": {},
   "source": [
    "## Benchmark 1 - Ackley function\n",
    "\n",
    "> \"The [Ackley function](https://www.sfu.ca/~ssurjano/ackley.html) is widely used for testing optimization algorithms. In its two-dimensional form, as shown in the plot above, it is characterized by a nearly flat outer region, and a large hole at the centre. The function poses a risk for optimization algorithms, particularly hillclimbing algorithms, to be trapped in one of its many local minima.\"\n",
    "\n",
    "Global minimum:\n",
    "\n",
    "$ f(\\mathbf{x^*}) = 0, \\text{at}~\\mathbf{x^*} = (0, \\dots, 0) $"
   ]
  },
  {
   "cell_type": "code",
   "execution_count": null,
   "metadata": {},
   "outputs": [],
   "source": [
    "from yabox.problems import Ackley\n",
    "Ackley().plot3d();"
   ]
  },
  {
   "cell_type": "code",
   "execution_count": null,
   "metadata": {},
   "outputs": [],
   "source": [
    "# Run the set of benchmarks on Ackley using the config defined at the beginning of this notebook\n",
    "ackley_data = benchmark.test(Ackley, config)\n",
    "\n",
    "# Plot the performance of each algorithm (execution time vs. fitness)\n",
    "benchmark.plot_results(ackley_data)"
   ]
  },
  {
   "cell_type": "code",
   "execution_count": null,
   "metadata": {},
   "outputs": [],
   "source": [
    "benchmark.plot_results(ackley_data, use_time=False)"
   ]
  },
  {
   "cell_type": "code",
   "execution_count": null,
   "metadata": {},
   "outputs": [],
   "source": [
    "benchmark.plot_time_per_iteration(ackley_data)"
   ]
  },
  {
   "cell_type": "markdown",
   "metadata": {},
   "source": [
    "## Benchmark 2 - Rastrigin function\n",
    "\n",
    "> *\"The [Rastrigin function](https://www.sfu.ca/~ssurjano/rastr.html) has several local minima. It is highly multimodal, but locations of the minima are regularly distributed. It is shown in the plot in its two-dimensional form.\"*\n",
    "\n",
    "Global minimum:\n",
    "\n",
    "$ f(\\mathbf{x^*}) = 0, \\text{at}~\\mathbf{x^*} = (0, \\dots, 0) $"
   ]
  },
  {
   "cell_type": "code",
   "execution_count": null,
   "metadata": {},
   "outputs": [],
   "source": [
    "from yabox.problems import Rastrigin\n",
    "Rastrigin().plot3d();"
   ]
  },
  {
   "cell_type": "code",
   "execution_count": null,
   "metadata": {},
   "outputs": [],
   "source": [
    "rastrigin_data = benchmark.test(Rastrigin, config)\n",
    "benchmark.plot_results(rastrigin_data)"
   ]
  },
  {
   "cell_type": "code",
   "execution_count": null,
   "metadata": {},
   "outputs": [],
   "source": [
    "benchmark.plot_results(rastrigin_data, use_time=False)"
   ]
  },
  {
   "cell_type": "code",
   "execution_count": null,
   "metadata": {},
   "outputs": [],
   "source": [
    "benchmark.plot_time_per_iteration(rastrigin_data)"
   ]
  },
  {
   "cell_type": "markdown",
   "metadata": {},
   "source": [
    "## Benchmark 3 - Schwefel function\n",
    "\n",
    "> \"The [Schwefel function](https://www.sfu.ca/~ssurjano/schwef.html) is complex, with many local minima. The plot shows the two-dimensional form of the function.\"\n",
    "\n",
    "Global minimum:\n",
    "\n",
    "$ f(\\mathbf{x^*}) = 0, \\text{at}~\\mathbf{x^*} = (420.9687, \\dots, 420.9687) $"
   ]
  },
  {
   "cell_type": "code",
   "execution_count": null,
   "metadata": {},
   "outputs": [],
   "source": [
    "from yabox.problems import Schwefel\n",
    "Schwefel().plot3d();"
   ]
  },
  {
   "cell_type": "code",
   "execution_count": null,
   "metadata": {},
   "outputs": [],
   "source": [
    "schwefel_data = benchmark.test(Schwefel, config)\n",
    "benchmark.plot_results(schwefel_data)"
   ]
  },
  {
   "cell_type": "code",
   "execution_count": null,
   "metadata": {},
   "outputs": [],
   "source": [
    "benchmark.plot_results(schwefel_data, use_time=False)"
   ]
  },
  {
   "cell_type": "code",
   "execution_count": null,
   "metadata": {},
   "outputs": [],
   "source": [
    "benchmark.plot_time_per_iteration(schwefel_data)"
   ]
  },
  {
   "cell_type": "markdown",
   "metadata": {},
   "source": [
    "## Benchmark 4 - Michalewicz function\n",
    "\n",
    "> \"The [Michalewicz function](https://www.sfu.ca/~ssurjano/michal.html) has d! local minima, and it is multimodal. The parameter m defines the steepness of they valleys and ridges; a larger m leads to a more difficult search. The recommended value of m is m = 10.\""
   ]
  },
  {
   "cell_type": "code",
   "execution_count": null,
   "metadata": {},
   "outputs": [],
   "source": [
    "from yabox.problems import Michalewicz\n",
    "Michalewicz().plot3d();"
   ]
  },
  {
   "cell_type": "code",
   "execution_count": null,
   "metadata": {},
   "outputs": [],
   "source": [
    "michalewicz_data = benchmark.test(Michalewicz, config)\n",
    "benchmark.plot_results(michalewicz_data)"
   ]
  },
  {
   "cell_type": "markdown",
   "metadata": {},
   "source": [
    "## Benchmark 5 - Griewank function\n",
    "\n",
    "> \"The [Griewank function](https://www.sfu.ca/~ssurjano/griewank.html) has many widespread local minima, which are regularly distributed.\"\n",
    "\n",
    "Global minimum:\n",
    "\n",
    "$ f(\\mathbf{x^*}) = 0, \\text{at}~\\mathbf{x^*} = (0, \\dots, 0) $"
   ]
  },
  {
   "cell_type": "code",
   "execution_count": null,
   "metadata": {},
   "outputs": [],
   "source": [
    "from yabox.problems import Griewank\n",
    "Griewank().plot3d();"
   ]
  },
  {
   "cell_type": "code",
   "execution_count": null,
   "metadata": {},
   "outputs": [],
   "source": [
    "griewank_data = benchmark.test(Griewank, config)\n",
    "benchmark.plot_results(griewank_data)"
   ]
  }
 ],
 "metadata": {
  "kernelspec": {
   "display_name": "Python 3",
   "language": "python",
   "name": "python3"
  },
  "language_info": {
   "codemirror_mode": {
    "name": "ipython",
    "version": 3
   },
   "file_extension": ".py",
   "mimetype": "text/x-python",
   "name": "python",
   "nbconvert_exporter": "python",
   "pygments_lexer": "ipython3",
   "version": "3.7.6"
  }
 },
 "nbformat": 4,
 "nbformat_minor": 2
}
